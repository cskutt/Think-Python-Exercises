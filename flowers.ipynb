{
 "cells": [
  {
   "cell_type": "code",
   "execution_count": 1,
   "id": "ab2e40e6",
   "metadata": {
    "scrolled": true
   },
   "outputs": [
    {
     "name": "stdout",
     "output_type": "stream",
     "text": [
      "<turtle.Turtle object at 0x105028a10>\n"
     ]
    }
   ],
   "source": [
    "import turtle\n",
    "import math\n",
    "julius=turtle.Turtle()\n",
    "print(julius)"
   ]
  },
  {
   "cell_type": "code",
   "execution_count": 2,
   "id": "7c561c60",
   "metadata": {},
   "outputs": [],
   "source": [
    "def polyline(t,n,length,angle):\n",
    "    for i in range(n):\n",
    "        t.fd(length)\n",
    "        t.lt(angle)\n",
    "        \n",
    "def polygon(t, length, n):\n",
    "    angle=360.0/n\n",
    "    polyline(t,n,length,angle)\n",
    "        \n",
    "def arc(t,r,angle):\n",
    "    arc_length=2*math.pi*r/(angle/360)\n",
    "    n=int(arc_length/3)+1\n",
    "    step_length=arc_length/n\n",
    "    step_angle=angle/n\n",
    "    polyline(t,n,step_length,step_angle)\n",
    "    \n",
    "def circle(t,r):\n",
    "    arc(t,r,360)\n",
    "    \n",
    "def petal(t,r,angle):\n",
    "    \"\"\"draws a petal using two arcs\"\"\"\n",
    "    for i in range(2):\n",
    "        arc(t,r,angle)\n",
    "        t.lt(180-angle)\n",
    "        \n",
    "def flower(t,petals,r,angle):\n",
    "    for i in range(petals):\n",
    "        petal(t,r,angle)\n",
    "        t.lt(360/petals)\n",
    "        \n",
    "def triangle(t,length,angle):\n",
    "    t.fd(length)\n",
    "    t.lt(180-((180-angle)/2))\n",
    "    t.fd(2*(length*math.sin(math.radians(angle/2))))\n",
    "    t.lt(180-((180-angle)/2))\n",
    "    t.fd(length)\n",
    "    t.lt(180-angle)\n",
    "    \n",
    "def turtle_pie(t,length,slices):\n",
    "    angle=360/slices\n",
    "    for i in range(slices):\n",
    "        triangle(t,length,angle)\n",
    "        t.lt(360/slices)"
   ]
  },
  {
   "cell_type": "code",
   "execution_count": 3,
   "id": "0d49b910",
   "metadata": {},
   "outputs": [],
   "source": [
    "turtle_pie(julius,50,7)"
   ]
  },
  {
   "cell_type": "code",
   "execution_count": null,
   "id": "3484543d",
   "metadata": {},
   "outputs": [],
   "source": [
    "turtle.mainloop()"
   ]
  },
  {
   "cell_type": "code",
   "execution_count": 3,
   "id": "4ecf276d",
   "metadata": {
    "scrolled": true
   },
   "outputs": [
    {
     "data": {
      "text/plain": [
       "0.49999999999999994"
      ]
     },
     "execution_count": 3,
     "metadata": {},
     "output_type": "execute_result"
    }
   ],
   "source": [
    "import math\n",
    "50*math.sin(math.radians(60/2))"
   ]
  },
  {
   "cell_type": "code",
   "execution_count": null,
   "id": "4e65d890",
   "metadata": {},
   "outputs": [],
   "source": []
  }
 ],
 "metadata": {
  "kernelspec": {
   "display_name": "Python 3 (ipykernel)",
   "language": "python",
   "name": "python3"
  },
  "language_info": {
   "codemirror_mode": {
    "name": "ipython",
    "version": 3
   },
   "file_extension": ".py",
   "mimetype": "text/x-python",
   "name": "python",
   "nbconvert_exporter": "python",
   "pygments_lexer": "ipython3",
   "version": "3.11.5"
  }
 },
 "nbformat": 4,
 "nbformat_minor": 5
}
