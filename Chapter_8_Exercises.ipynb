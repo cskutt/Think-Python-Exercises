{
 "cells": [
  {
   "cell_type": "code",
   "execution_count": 3,
   "id": "3a900ec4",
   "metadata": {},
   "outputs": [
    {
     "data": {
      "text/plain": [
       "True"
      ]
     },
     "execution_count": 3,
     "metadata": {},
     "output_type": "execute_result"
    }
   ],
   "source": [
    "def is_palindrome(word):\n",
    "    if word[::1] == word[::-1]:\n",
    "        return True\n",
    "    else:\n",
    "        return False\n",
    "\n",
    "is_palindrome('appa')"
   ]
  },
  {
   "cell_type": "code",
   "execution_count": 19,
   "id": "ed8bf9aa",
   "metadata": {},
   "outputs": [
    {
     "data": {
      "text/plain": [
       "False"
      ]
     },
     "execution_count": 19,
     "metadata": {},
     "output_type": "execute_result"
    }
   ],
   "source": [
    "def any_lowercase1(s):\n",
    "    for c in s:\n",
    "        if c.islower():\n",
    "            return True\n",
    "        else:\n",
    "            return False\n",
    "#this one only checks the first letter before it is told to return. It will only tell if the first letter is lowercase or not.\n",
    "        \n",
    "        \n",
    "def any_lowercase2(s):\n",
    "    for c in s:\n",
    "        if 'c'.islower():\n",
    "            return 'True'\n",
    "        else:\n",
    "            return 'False'\n",
    "#This is just testing if the letter 'c' is lowercase, which it will always be. It will always return True. \n",
    "        \n",
    "        \n",
    "def any_lowercase3(s):\n",
    "    for c in s:\n",
    "        flag = c.islower()\n",
    "    return flag\n",
    "#This is only effectively testing/returning the status of the last letter \n",
    "\n",
    "def any_lowercase4(s):\n",
    "    flag = False\n",
    "    for c in s:\n",
    "        flag = flag or c.islower()\n",
    "    return flag\n",
    "#This one works!\n",
    "\n",
    "\n",
    "def any_lowercase5(s):\n",
    "    for c in s:\n",
    "        if not c.islower():\n",
    "            return False\n",
    "#this one will return false if there are any capital letters at all in the string. \n",
    "        \n",
    "        \n",
    "        \n",
    "any_lowercase5('hI')"
   ]
  },
  {
   "cell_type": "code",
   "execution_count": 37,
   "id": "66db14e7",
   "metadata": {},
   "outputs": [
    {
     "name": "stdout",
     "output_type": "stream",
     "text": [
      "hello\n",
      "uryy|\n"
     ]
    }
   ],
   "source": [
    "def ceasar_cypher(word,rotation):\n",
    "    word=word.lower()\n",
    "    new_word=''\n",
    "    for c in word:\n",
    "        new=ord(c)+rotation\n",
    "        letter=chr(new)\n",
    "        new_word=new_word+letter\n",
    "    print(word)\n",
    "    print(new_word)\n",
    "\n",
    "    \n",
    "    \n",
    "    \n",
    "ceasar_cypher('HEllo',13)"
   ]
  },
  {
   "cell_type": "code",
   "execution_count": null,
   "id": "41741812",
   "metadata": {},
   "outputs": [],
   "source": []
  }
 ],
 "metadata": {
  "kernelspec": {
   "display_name": "Python 3 (ipykernel)",
   "language": "python",
   "name": "python3"
  },
  "language_info": {
   "codemirror_mode": {
    "name": "ipython",
    "version": 3
   },
   "file_extension": ".py",
   "mimetype": "text/x-python",
   "name": "python",
   "nbconvert_exporter": "python",
   "pygments_lexer": "ipython3",
   "version": "3.11.5"
  }
 },
 "nbformat": 4,
 "nbformat_minor": 5
}
