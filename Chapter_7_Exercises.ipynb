{
 "cells": [
  {
   "cell_type": "code",
   "execution_count": 10,
   "id": "3f572bae",
   "metadata": {},
   "outputs": [
    {
     "name": "stdout",
     "output_type": "stream",
     "text": [
      "a    mysqrt(a)      math.sqrt(a)   diff          \n",
      "-    ---------      ------------   ----          \n",
      "1.0   1.0 1.0 0.0\n",
      "2.0   1.414213562373095 1.4142135623730951 2.220446049250313e-16\n",
      "3.0   1.7320508075688772 1.7320508075688772 0.0\n",
      "4.0   2.0 2.0 0.0\n",
      "5.0   2.23606797749979 2.23606797749979 0.0\n",
      "6.0   2.449489742783178 2.449489742783178 0.0\n",
      "7.0   2.6457513110645907 2.6457513110645907 0.0\n",
      "8.0   2.82842712474619 2.8284271247461903 4.440892098500626e-16\n",
      "9.0   3.0 3.0 0.0\n"
     ]
    }
   ],
   "source": [
    "import math\n",
    "\n",
    "def mysqrt(a):\n",
    "    if a<35:\n",
    "        x=a/3\n",
    "    elif 35<a<80:\n",
    "        x=a/4\n",
    "    else:\n",
    "        x=a/6\n",
    "    while True:\n",
    "        y = (x + a/x) / 2\n",
    "        if y == x:\n",
    "            break \n",
    "        x=y\n",
    "    return x\n",
    "\n",
    "        \n",
    "def test_square_root():\n",
    "    print('a   ','mysqrt(a)     ','math.sqrt(a)  ','diff          ')\n",
    "    print('-   ','---------     ','------------  ','----          ')\n",
    "    a=1.0\n",
    "    while a<10:\n",
    "        print(a,' ',mysqrt(a), math.sqrt(a), math.sqrt(a)-mysqrt(a))\n",
    "        a=a+1\n",
    "        \n",
    "            \n",
    "test_square_root()"
   ]
  },
  {
   "cell_type": "code",
   "execution_count": 16,
   "id": "05414f70",
   "metadata": {
    "scrolled": true
   },
   "outputs": [
    {
     "name": "stdout",
     "output_type": "stream",
     "text": [
      "Please provide a math problem for me to solve!\n",
      "5+4\n",
      "9\n",
      "Please provide a math problem for me to solve!\n",
      "Done\n"
     ]
    },
    {
     "data": {
      "text/plain": [
       "9"
      ]
     },
     "execution_count": 16,
     "metadata": {},
     "output_type": "execute_result"
    }
   ],
   "source": [
    "import math\n",
    "\n",
    "def eval_loop():\n",
    "    while True:\n",
    "        q=input('Please provide a math problem for me to solve!\\n')\n",
    "        if q != 'Done':\n",
    "            print(eval(q))\n",
    "            last_value=eval(q)\n",
    "        if q=='Done':\n",
    "            return last_value\n",
    "            break\n",
    "            \n",
    "eval_loop()"
   ]
  },
  {
   "cell_type": "code",
   "execution_count": null,
   "id": "ceb957ad",
   "metadata": {},
   "outputs": [],
   "source": []
  },
  {
   "cell_type": "code",
   "execution_count": null,
   "id": "1e5ae1a6",
   "metadata": {},
   "outputs": [],
   "source": []
  }
 ],
 "metadata": {
  "kernelspec": {
   "display_name": "Python 3 (ipykernel)",
   "language": "python",
   "name": "python3"
  },
  "language_info": {
   "codemirror_mode": {
    "name": "ipython",
    "version": 3
   },
   "file_extension": ".py",
   "mimetype": "text/x-python",
   "name": "python",
   "nbconvert_exporter": "python",
   "pygments_lexer": "ipython3",
   "version": "3.11.5"
  }
 },
 "nbformat": 4,
 "nbformat_minor": 5
}
