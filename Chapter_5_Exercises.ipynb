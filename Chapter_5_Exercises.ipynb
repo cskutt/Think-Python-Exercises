{
 "cells": [
  {
   "cell_type": "code",
   "execution_count": 2,
   "id": "0f2c9327",
   "metadata": {},
   "outputs": [
    {
     "name": "stdout",
     "output_type": "stream",
     "text": [
      "what is your name?\n",
      "Charlie\n"
     ]
    }
   ],
   "source": [
    "name=input(\"what is your name?\\n\")"
   ]
  },
  {
   "cell_type": "code",
   "execution_count": null,
   "id": "e9854ad8",
   "metadata": {},
   "outputs": [],
   "source": [
    "question=input()\n"
   ]
  },
  {
   "cell_type": "code",
   "execution_count": 9,
   "id": "20657cef",
   "metadata": {},
   "outputs": [
    {
     "data": {
      "text/plain": [
       "1702080059.498881"
      ]
     },
     "execution_count": 9,
     "metadata": {},
     "output_type": "execute_result"
    }
   ],
   "source": []
  },
  {
   "cell_type": "code",
   "execution_count": 56,
   "id": "9650cccd",
   "metadata": {},
   "outputs": [
    {
     "data": {
      "text/plain": [
       "19703.0"
      ]
     },
     "execution_count": 56,
     "metadata": {},
     "output_type": "execute_result"
    }
   ],
   "source": [
    "import time\n",
    "time.time()\n",
    "\n",
    "seconds=time.time\n",
    "\n",
    "minutes=time.time()/60\n",
    "minutes\n",
    "\n",
    "hours=minutes/60\n",
    "hours\n",
    "\n",
    "days=hours//24\n",
    "days\n",
    "\n"
   ]
  },
  {
   "cell_type": "code",
   "execution_count": 57,
   "id": "c0aa9174",
   "metadata": {},
   "outputs": [
    {
     "data": {
      "text/plain": [
       "154.1170329004526"
      ]
     },
     "execution_count": 57,
     "metadata": {},
     "output_type": "execute_result"
    }
   ],
   "source": [
    "minutes%1440"
   ]
  },
  {
   "cell_type": "code",
   "execution_count": 58,
   "id": "d3ef0138",
   "metadata": {},
   "outputs": [
    {
     "data": {
      "text/plain": [
       "2.5686172150308266"
      ]
     },
     "execution_count": 58,
     "metadata": {},
     "output_type": "execute_result"
    }
   ],
   "source": [
    "hours\n",
    "\n",
    "hours%24"
   ]
  },
  {
   "cell_type": "code",
   "execution_count": 59,
   "id": "b7b44dba",
   "metadata": {},
   "outputs": [
    {
     "data": {
      "text/plain": [
       "19703.0"
      ]
     },
     "execution_count": 59,
     "metadata": {},
     "output_type": "execute_result"
    }
   ],
   "source": [
    "days"
   ]
  },
  {
   "cell_type": "code",
   "execution_count": 60,
   "id": "71dbf132",
   "metadata": {
    "scrolled": true
   },
   "outputs": [
    {
     "ename": "TypeError",
     "evalue": "unsupported operand type(s) for %: 'builtin_function_or_method' and 'int'",
     "output_type": "error",
     "traceback": [
      "\u001b[0;31m---------------------------------------------------------------------------\u001b[0m",
      "\u001b[0;31mTypeError\u001b[0m                                 Traceback (most recent call last)",
      "Cell \u001b[0;32mIn[60], line 12\u001b[0m\n\u001b[1;32m      6\u001b[0m         \u001b[38;5;28mprint\u001b[39m(\u001b[38;5;124m\"\u001b[39m\u001b[38;5;124m00 :\u001b[39m\u001b[38;5;124m\"\u001b[39m,\u001b[38;5;28mint\u001b[39m(minutes\u001b[38;5;241m%\u001b[39m\u001b[38;5;241m1440\u001b[39m))\n\u001b[1;32m      7\u001b[0m         \u001b[38;5;28mprint\u001b[39m(\u001b[38;5;28mint\u001b[39m(days),\u001b[38;5;124m\"\u001b[39m\u001b[38;5;124mdays after since the epoch\u001b[39m\u001b[38;5;124m\"\u001b[39m)\n\u001b[0;32m---> 12\u001b[0m time_of_day()\n",
      "Cell \u001b[0;32mIn[60], line 3\u001b[0m, in \u001b[0;36mtime_of_day\u001b[0;34m()\u001b[0m\n\u001b[1;32m      1\u001b[0m \u001b[38;5;28;01mdef\u001b[39;00m \u001b[38;5;21mtime_of_day\u001b[39m():\n\u001b[1;32m      2\u001b[0m     \u001b[38;5;28;01mif\u001b[39;00m (hours\u001b[38;5;241m%\u001b[39m\u001b[38;5;241m24\u001b[39m)\u001b[38;5;241m>\u001b[39m\u001b[38;5;241m=\u001b[39m\u001b[38;5;241m1\u001b[39m:\n\u001b[0;32m----> 3\u001b[0m         \u001b[38;5;28mprint\u001b[39m(\u001b[38;5;28mint\u001b[39m(hours\u001b[38;5;241m%\u001b[39m\u001b[38;5;241m24\u001b[39m),\u001b[38;5;124m\"\u001b[39m\u001b[38;5;124m:\u001b[39m\u001b[38;5;124m\"\u001b[39m,\u001b[38;5;28mint\u001b[39m(minutes\u001b[38;5;241m%\u001b[39m\u001b[38;5;241m1440\u001b[39m),\u001b[38;5;124m\"\u001b[39m\u001b[38;5;124m:\u001b[39m\u001b[38;5;124m\"\u001b[39m,\u001b[38;5;28mint\u001b[39m(seconds\u001b[38;5;241m%\u001b[39m\u001b[38;5;241m86400\u001b[39m))\n\u001b[1;32m      4\u001b[0m         \u001b[38;5;28mprint\u001b[39m(\u001b[38;5;28mint\u001b[39m(days),\u001b[38;5;124m\"\u001b[39m\u001b[38;5;124mafter since the epoch\u001b[39m\u001b[38;5;124m\"\u001b[39m)\n\u001b[1;32m      5\u001b[0m     \u001b[38;5;28;01melse\u001b[39;00m:\n",
      "\u001b[0;31mTypeError\u001b[0m: unsupported operand type(s) for %: 'builtin_function_or_method' and 'int'"
     ]
    }
   ],
   "source": [
    "def time_of_day():\n",
    "    if (hours%24)>=1:\n",
    "        print(int(hours%24),\":\",int(minutes%1440),\":\",int(seconds%86400))\n",
    "        print(int(days),\"after since the epoch\")\n",
    "    else:\n",
    "        print(\"00 :\",int(minutes%1440))\n",
    "        print(int(days),\"days after since the epoch\")\n",
    "   \n",
    "    \n",
    "    \n",
    "    \n",
    "time_of_day()"
   ]
  },
  {
   "cell_type": "code",
   "execution_count": 61,
   "id": "15a4cfd4",
   "metadata": {},
   "outputs": [
    {
     "name": "stdout",
     "output_type": "stream",
     "text": [
      "Please insert a value for a\n",
      "5\n",
      "Please insert a value for b\n",
      "3\n",
      "Please insert a value for c\n",
      "7\n",
      "Please insert a value for n\n",
      "17\n",
      "No, that doesn't work\n"
     ]
    }
   ],
   "source": [
    "def check_fermat(a,b,c,n):\n",
    "    if n<=2:\n",
    "        print(\"n must be greater than 2!\")\n",
    "    elif a<=0 or b<=0 or c<=0:\n",
    "        print(\"a, b, and c must all be positive integers\")\n",
    "    elif a**n + b**n == c**n:\n",
    "        print(\"Holy smokes, fermat was wrong!\")\n",
    "    else:\n",
    "        print(\"No, that doesn't work\")\n",
    "        \n",
    "        \n",
    "a = int(input(\"Please insert a value for a\\n\"))\n",
    "b = int(input(\"Please insert a value for b\\n\"))\n",
    "c = int(input(\"Please insert a value for c\\n\"))\n",
    "n = int(input(\"Please insert a value for n\\n\"))\n",
    "\n",
    "check_fermat(a,b,c,n)"
   ]
  },
  {
   "cell_type": "code",
   "execution_count": 65,
   "id": "45cdd414",
   "metadata": {},
   "outputs": [
    {
     "name": "stdout",
     "output_type": "stream",
     "text": [
      "Please enter stick length #1\n",
      "1\n",
      "Please enter stick length #2\n",
      "1\n",
      "Please enter stick length #3\n",
      "1\n",
      "yes\n"
     ]
    }
   ],
   "source": [
    "def is_triangle(a,b,c):\n",
    "    if a<=0 or b<=0 or c<=0:\n",
    "        print(\"a, b, and c must all be positive integers\")\n",
    "    elif a>b+c or b>a+c or c>a+b:\n",
    "        print(\"no\")\n",
    "    else:\n",
    "        print(\"yes\")\n",
    "\n",
    "a=int(input(\"Please enter stick length #1\\n\"))\n",
    "b=int(input(\"Please enter stick length #2\\n\"))\n",
    "c=int(input(\"Please enter stick length #3\\n\"))\n",
    "\n",
    "is_triangle(a,b,c)"
   ]
  },
  {
   "cell_type": "code",
   "execution_count": 74,
   "id": "1ce2df0b",
   "metadata": {},
   "outputs": [
    {
     "name": "stdout",
     "output_type": "stream",
     "text": [
      "28\n"
     ]
    }
   ],
   "source": [
    "def recurse(n,s):\n",
    "    if n==0:\n",
    "        print(s)\n",
    "    else:\n",
    "        recurse(n-1,n+s)\n",
    "\n",
    "        \n",
    "recurse(7,0)"
   ]
  },
  {
   "cell_type": "code",
   "execution_count": null,
   "id": "5d3e80b7",
   "metadata": {},
   "outputs": [
    {
     "name": "stdout",
     "output_type": "stream",
     "text": [
      "<turtle.Turtle object at 0x10bd58850>\n"
     ]
    }
   ],
   "source": [
    "import turtle\n",
    "import math\n",
    "bob=turtle.Turtle()\n",
    "print(bob)\n",
    "\n",
    "def draw(t,length,n):\n",
    "    if n==0:\n",
    "        return\n",
    "    angle=50\n",
    "    t.fd(length*n)\n",
    "    t.lt(angle)\n",
    "    draw(t,length,n-1)\n",
    "    t.rt(2*angle)\n",
    "    draw(t,length,n-1)\n",
    "    t.lt(angle)\n",
    "    t.bk(length*n)\n",
    "    \n",
    "def kochCurve(t,length):\n",
    "    t.fd(length/3)\n",
    "    t.lt(60)\n",
    "    t.fd(length/3)\n",
    "    t.rt(120)\n",
    "    t.fd(length/3)\n",
    "    t.lt(60)\n",
    "    t.fd(length/3)\n",
    "    \n",
    "    \n",
    "def koch(t,length):\n",
    "    kochCurve(t, length/3)\n",
    "    t.lt(60)\n",
    "    kochCurve(t,length/3)\n",
    "    t.rt(120)\n",
    "    kochCurve(t,length/3)\n",
    "    t.lt(60)\n",
    "    kochCurve(t,length/3)\n",
    "    \n",
    "def koch1(t,length):\n",
    "    koch(t, length/3)\n",
    "    t.lt(60)\n",
    "    koch(t,length/3)\n",
    "    t.rt(120)\n",
    "    koch(t,length/3)\n",
    "    t.lt(60)\n",
    "    koch(t,length/3)\n",
    "    \n",
    "    \n",
    "def kochN(t,length,n):\n",
    "    if n==0:\n",
    "        koch(t,length/3**n)\n",
    "    elif n==1:\n",
    "        koch(t, length/3**n)\n",
    "        t.lt(60)\n",
    "        koch(t,length/3**n)\n",
    "        t.rt(120)\n",
    "        koch(t,length/3**n)\n",
    "        t.lt(60)\n",
    "        koch(t,length/3**n)\n",
    "    elif n==2:\n",
    "        count=1\n",
    "        for i in range(n+2):\n",
    "            koch(t, length/3**n)\n",
    "            t.lt(60)\n",
    "            koch(t,length/3**n)\n",
    "            t.rt(120)\n",
    "            koch(t,length/3**n)\n",
    "            t.lt(60)\n",
    "            koch(t,length/3**n)\n",
    "            if count%2==1:\n",
    "                t.lt(60)\n",
    "                count=count+1\n",
    "            else:\n",
    "                t.rt(120)\n",
    "                count=count+1\n",
    "    \n",
    "\n",
    "def snowflake(t,length):\n",
    "    for i in range(3):\n",
    "        koch1(t,length/3)\n",
    "        t.rt(120)\n",
    "    \n",
    "kochN(bob,100,2)\n",
    "    \n",
    "\n",
    "turtle.mainloop()"
   ]
  },
  {
   "cell_type": "code",
   "execution_count": 5,
   "id": "b25ac5f0",
   "metadata": {
    "scrolled": true
   },
   "outputs": [
    {
     "data": {
      "text/plain": [
       "False"
      ]
     },
     "execution_count": 5,
     "metadata": {},
     "output_type": "execute_result"
    }
   ],
   "source": [
    "2%2==1"
   ]
  },
  {
   "cell_type": "code",
   "execution_count": null,
   "id": "65f47b11",
   "metadata": {},
   "outputs": [],
   "source": []
  }
 ],
 "metadata": {
  "kernelspec": {
   "display_name": "Python 3 (ipykernel)",
   "language": "python",
   "name": "python3"
  },
  "language_info": {
   "codemirror_mode": {
    "name": "ipython",
    "version": 3
   },
   "file_extension": ".py",
   "mimetype": "text/x-python",
   "name": "python",
   "nbconvert_exporter": "python",
   "pygments_lexer": "ipython3",
   "version": "3.11.5"
  }
 },
 "nbformat": 4,
 "nbformat_minor": 5
}
