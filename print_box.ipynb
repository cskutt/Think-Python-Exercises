{
 "cells": [
  {
   "cell_type": "code",
   "execution_count": 5,
   "id": "34167f9e",
   "metadata": {
    "scrolled": true
   },
   "outputs": [
    {
     "name": "stdout",
     "output_type": "stream",
     "text": [
      "                                                                 penis\n"
     ]
    }
   ],
   "source": [
    "def right_justify(s):\n",
    "    total_letters=len(s)\n",
    "    print(' '*(70-total_letters)+s)\n",
    "    \n",
    "right_justify('penis')"
   ]
  },
  {
   "cell_type": "code",
   "execution_count": 56,
   "id": "9ae051ff",
   "metadata": {},
   "outputs": [
    {
     "name": "stdout",
     "output_type": "stream",
     "text": [
      "spam\n",
      "spam\n",
      "spam\n",
      "spam\n",
      "spam\n",
      "spam\n",
      "spam\n",
      "spam\n"
     ]
    }
   ],
   "source": [
    "def do_twice(f, v):\n",
    "    f(v)\n",
    "    f(v)\n",
    "    \n",
    "def print_spam():\n",
    "    print('spam')\n",
    "    \n",
    "def print_twice(bruce):\n",
    "    print(bruce)\n",
    "    print(bruce)\n",
    "    \n",
    "def do_four(f,v):\n",
    "    do_twice(f,v)\n",
    "    do_twice(f,v)\n",
    "\n",
    "do_four(print_twice, 'spam')"
   ]
  },
  {
   "cell_type": "code",
   "execution_count": 111,
   "id": "59678ba6",
   "metadata": {
    "scrolled": true
   },
   "outputs": [
    {
     "name": "stdout",
     "output_type": "stream",
     "text": [
      "+ - - - - + - - - - + - - - - + - - - - +\n",
      "|         |         |         |         |\n",
      "|         |         |         |         |\n",
      "|         |         |         |         |\n",
      "|         |         |         |         |\n",
      "+ - - - - + - - - - + - - - - + - - - - +\n",
      "|         |         |         |         |\n",
      "|         |         |         |         |\n",
      "|         |         |         |         |\n",
      "|         |         |         |         |\n",
      "+ - - - - + - - - - + - - - - + - - - - +\n",
      "|         |         |         |         |\n",
      "|         |         |         |         |\n",
      "|         |         |         |         |\n",
      "|         |         |         |         |\n",
      "+ - - - - + - - - - + - - - - + - - - - +\n",
      "|         |         |         |         |\n",
      "|         |         |         |         |\n",
      "|         |         |         |         |\n",
      "|         |         |         |         |\n",
      "+ - - - - + - - - - + - - - - + - - - - +\n",
      "|         |         |         |         |\n",
      "|         |         |         |         |\n",
      "|         |         |         |         |\n",
      "|         |         |         |         |\n",
      "+ - - - - + - - - - + - - - - + - - - - +\n",
      "|         |         |         |         |\n",
      "|         |         |         |         |\n",
      "|         |         |         |         |\n",
      "|         |         |         |         |\n",
      "+ - - - - + - - - - + - - - - + - - - - +\n"
     ]
    }
   ],
   "source": [
    "#prints the row divider\n",
    "def print_row(columns):\n",
    "    print(\"+ - - - - \"*columns+\"+\")\n",
    "\n",
    "row_size=4 \n",
    "row_counter=0\n",
    "\n",
    "#prints the column lines\n",
    "def print_column(columns):\n",
    "    global row_counter\n",
    "    if row_counter<4:\n",
    "        print(\"|         \"*columns+\"|\")\n",
    "        row_counter=row_counter+1\n",
    "        print_column(columns)\n",
    "    else:\n",
    "        row_counter=0\n",
    "\n",
    "#sets the total_runs variable to 0 so that the box prints properly. \n",
    "#If not set to 0, the box will not print the proper # of rows\n",
    "total_runs=0\n",
    "\n",
    "#prints a box with the specified rows and columns\n",
    "def print_box(columns, rows):\n",
    "    global total_runs #keeps track of how many rows have been printed\n",
    "    if total_runs<1: #if no rows printed, sets the correct amount to print\n",
    "        total_rows_left=rows\n",
    "        total_runs=total_runs+1\n",
    "    else: #if rows have been printed, sets the remainding amt to print and adds another count to total runs\n",
    "        total_rows_left=rows-total_runs\n",
    "        total_runs=total_runs+1\n",
    "    if total_rows_left>0:\n",
    "        print_row(columns)\n",
    "        print_column(columns)\n",
    "        total_rows_left=total_rows_left-1\n",
    "        print_box(columns, rows)\n",
    "    else:\n",
    "        print_row(columns)\n",
    "        \n",
    "\n",
    "print_box(4,6)\n",
    "    "
   ]
  },
  {
   "cell_type": "code",
   "execution_count": 104,
   "id": "5060966c",
   "metadata": {},
   "outputs": [
    {
     "name": "stdout",
     "output_type": "stream",
     "text": [
      "+-\n"
     ]
    }
   ],
   "source": []
  },
  {
   "cell_type": "code",
   "execution_count": null,
   "id": "f4f65e56",
   "metadata": {},
   "outputs": [],
   "source": []
  }
 ],
 "metadata": {
  "kernelspec": {
   "display_name": "Python 3 (ipykernel)",
   "language": "python",
   "name": "python3"
  },
  "language_info": {
   "codemirror_mode": {
    "name": "ipython",
    "version": 3
   },
   "file_extension": ".py",
   "mimetype": "text/x-python",
   "name": "python",
   "nbconvert_exporter": "python",
   "pygments_lexer": "ipython3",
   "version": "3.11.5"
  }
 },
 "nbformat": 4,
 "nbformat_minor": 5
}
