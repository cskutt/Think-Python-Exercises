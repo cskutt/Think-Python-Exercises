{
 "cells": [
  {
   "cell_type": "code",
   "execution_count": 5,
   "id": "42ef9ed1",
   "metadata": {
    "scrolled": true
   },
   "outputs": [
    {
     "name": "stdout",
     "output_type": "stream",
     "text": [
      "counterdemonstrations\n",
      "\n",
      "countered\n",
      "\n",
      "hyperanxious\n",
      "\n",
      "hypersensitivities\n",
      "\n",
      "microminiaturizations\n",
      "\n",
      "representatives\n",
      "\n"
     ]
    }
   ],
   "source": [
    "#Exercise 9.1\n",
    "words=open('words.txt')\n",
    "\n",
    "for line in words:\n",
    "    if len(line) > 20:\n",
    "        print(words.readline())"
   ]
  },
  {
   "cell_type": "code",
   "execution_count": 18,
   "id": "3047edc5",
   "metadata": {
    "scrolled": false
   },
   "outputs": [
    {
     "name": "stdout",
     "output_type": "stream",
     "text": [
      "37621 113783\n",
      "0.33063814453828777\n"
     ]
    }
   ],
   "source": [
    "#Exercise 9.2\n",
    "\n",
    "words=open('words.txt')\n",
    "\n",
    "total=0\n",
    "count=0\n",
    "for line in words:\n",
    "    total=total+1\n",
    "    if line.find('e') == -1 :\n",
    "        count=count+1\n",
    "        #print(line)\n",
    "print(count,total)\n",
    "print(count/total)"
   ]
  },
  {
   "cell_type": "code",
   "execution_count": 138,
   "id": "251d151b",
   "metadata": {
    "scrolled": true
   },
   "outputs": [
    {
     "data": {
      "text/plain": [
       "False"
      ]
     },
     "execution_count": 138,
     "metadata": {},
     "output_type": "execute_result"
    }
   ],
   "source": [
    "#Exercise 9.3\n",
    "def avoids(word,letters):\n",
    "    count=0\n",
    "    for c in letters:\n",
    "        count=count+1\n",
    "        #print(c)\n",
    "        if word.find(c) >= 0:\n",
    "            #print('False')\n",
    "            return False\n",
    "        elif count >= len(letters):\n",
    "            #print('true')\n",
    "            return True\n",
    "            \n",
    "        \n",
    "def program():\n",
    "    letters = input('Please submit a list of forbidden letters\\n')\n",
    "    words = open('words.txt')\n",
    "    word_count=0\n",
    "    for line in words:\n",
    "        #print(line)\n",
    "        if avoids(line,letters)==False:\n",
    "            word_count=word_count+1\n",
    "    print(word_count)\n",
    "\n",
    "\n",
    "#Exercise 9.4\n",
    "def uses_only(word,letters):\n",
    "    #print('uses_only called')\n",
    "    #print(letters)\n",
    "    count=0\n",
    "    #print(len(word))\n",
    "    for letter in word:\n",
    "       # print(letter)\n",
    "        count=count+1\n",
    "        #print(count)\n",
    "        if count == len(word):\n",
    "            return True\n",
    "        elif letter not in letters:\n",
    "            #print('False')\n",
    "            #print('this is for False:',count)\n",
    "            return False\n",
    "        #else:\n",
    "            #print('else')\n",
    "            #count=count\n",
    "            #print('this is the else',count)\n",
    "        \n",
    "def program2():\n",
    "    letters = input('Please submit a list of allowed letters\\n')\n",
    "    words = open('words.txt')\n",
    "    word_count=0\n",
    "    for line in words:\n",
    "        if uses_only(line,letters)==True:\n",
    "            print(line)\n",
    "            word_count=word_count+1\n",
    "    print(word_count)\n",
    "    \n",
    "    \n",
    "\n",
    "#Exercise 9.5\n",
    "def uses_all(word,letters):\n",
    "    letter_count=0\n",
    "    run_count=0\n",
    "    for letter in letters:\n",
    "        run_count=run_count+1\n",
    "        if letter in word:\n",
    "            letter_count=letter_count+1\n",
    "            if letter_count==len(letters):\n",
    "                return True\n",
    "        elif run_count==len(letters):\n",
    "            return False"
   ]
  },
  {
   "cell_type": "code",
   "execution_count": 155,
   "id": "f9ae8fca",
   "metadata": {},
   "outputs": [
    {
     "name": "stdout",
     "output_type": "stream",
     "text": [
      "bookkeeper\n",
      "\n",
      "bookkeepers\n",
      "\n",
      "bookkeeping\n",
      "\n",
      "bookkeepings\n",
      "\n"
     ]
    }
   ],
   "source": [
    "#Exercise 9.7\n",
    "def is_3_consecutive(word):\n",
    "    previous=word[0]\n",
    "    consec_count=0\n",
    "    i=0\n",
    "    while i < len(word)-1:\n",
    "        if word[i+1]==word[i]:\n",
    "            consec_count=consec_count+1\n",
    "            #print(consec_count)\n",
    "            i=i+1\n",
    "            if consec_count==3:\n",
    "                return True\n",
    "        else:\n",
    "            consec_count=0\n",
    "        i=i+1\n",
    "    return False\n",
    "\n",
    "\n",
    "def find_3_consecutive():\n",
    "    words=open('words.txt')\n",
    "    for line in words:\n",
    "        if is_3_consecutive(line)==True:\n",
    "            print(line)\n",
    "\n",
    "            \n",
    "find_3_consecutive()"
   ]
  },
  {
   "cell_type": "code",
   "execution_count": 184,
   "id": "1a8c0e2d",
   "metadata": {
    "scrolled": false
   },
   "outputs": [
    {
     "name": "stdout",
     "output_type": "stream",
     "text": [
      "23456\n",
      "wor\n"
     ]
    }
   ],
   "source": [
    "#Exercise 9.8\n",
    "\n",
    "def is_palindrome(word):\n",
    "    if word[::1] == word[::-1]:\n",
    "        return True\n",
    "    else:\n",
    "        return False\n",
    "    \n",
    "test=str(123456)\n",
    "print(test[1:6])\n",
    "\n",
    "for i in range(100000,999999):\n",
    "    original_i=i\n",
    "    i=str(i)\n",
    "    if is_palindrome(i)==True:\n",
    "        i=int(i)\n",
    "        i=i-1\n",
    "        i=str(i)\n",
    "        if is_palindrome(i[1:5]):\n",
    "            i=int(i)\n",
    "            i=i-1\n",
    "            i=str(i)\n",
    "            if is_palindrome(i[1:6]):\n",
    "                i=int(i)\n",
    "                i=i-1\n",
    "                i=str(i)\n",
    "                if is_palindrome(i[2:6]):\n",
    "                    print(int(original_i)-3)"
   ]
  },
  {
   "cell_type": "code",
   "execution_count": null,
   "id": "ded650a9",
   "metadata": {},
   "outputs": [],
   "source": [
    "#"
   ]
  }
 ],
 "metadata": {
  "kernelspec": {
   "display_name": "Python 3 (ipykernel)",
   "language": "python",
   "name": "python3"
  },
  "language_info": {
   "codemirror_mode": {
    "name": "ipython",
    "version": 3
   },
   "file_extension": ".py",
   "mimetype": "text/x-python",
   "name": "python",
   "nbconvert_exporter": "python",
   "pygments_lexer": "ipython3",
   "version": "3.11.5"
  }
 },
 "nbformat": 4,
 "nbformat_minor": 5
}
