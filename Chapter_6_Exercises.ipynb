{
 "cells": [
  {
   "cell_type": "code",
   "execution_count": 1,
   "id": "33dd9b21",
   "metadata": {},
   "outputs": [
    {
     "name": "stdout",
     "output_type": "stream",
     "text": [
      "9 90\n",
      "8100\n"
     ]
    }
   ],
   "source": [
    "def b(z):\n",
    "    prod = a(z, z)\n",
    "    print(z, prod)\n",
    "    return prod\n",
    "\n",
    "def a(x, y): \n",
    "    x=x+1\n",
    "    return x * y\n",
    "\n",
    "def c(x, y, z):\n",
    "    total = x + y + z\n",
    "    square = b(total)**2\n",
    "    return square\n",
    "\n",
    "x=1\n",
    "y=x+1\n",
    "print(c(x, y+3, x+y))"
   ]
  },
  {
   "cell_type": "code",
   "execution_count": 47,
   "id": "136118d2",
   "metadata": {
    "scrolled": true
   },
   "outputs": [
    {
     "name": "stdout",
     "output_type": "stream",
     "text": [
      "true\n"
     ]
    }
   ],
   "source": [
    "def first(word):\n",
    "    return word[0]\n",
    "\n",
    "def last(word):\n",
    "    return word[-1]\n",
    "\n",
    "def middle(word):\n",
    "    return word[1:-1]\n",
    "\n",
    "def is_palindrome(word):\n",
    "    if middle(word)=='' and first(word)==last(word):\n",
    "        print('true')\n",
    "        return True\n",
    "    elif first(word)==last(word): \n",
    "        mid_word=middle(word)\n",
    "        is_palindrome(mid_word)\n",
    "    else:\n",
    "        print(\"false\")\n",
    "        return False\n",
    "    \n",
    "        \n",
    "    \n",
    "is_palindrome('gohangasalamiimalasagnahog')\n"
   ]
  },
  {
   "cell_type": "code",
   "execution_count": 57,
   "id": "a284a97b",
   "metadata": {},
   "outputs": [
    {
     "name": "stdout",
     "output_type": "stream",
     "text": [
      "123\n",
      "true\n",
      "true\n",
      "true\n",
      "true\n",
      "true\n",
      "true\n"
     ]
    },
    {
     "data": {
      "text/plain": [
       "True"
      ]
     },
     "execution_count": 57,
     "metadata": {},
     "output_type": "execute_result"
    }
   ],
   "source": [
    "def is_power(a,b):\n",
    "    if a%b==0 and a>b and is_power(a/b,b):\n",
    "        return True \n",
    "    elif a%b==0 and a==b:\n",
    "        return True\n",
    "    else:\n",
    "        return False\n",
    "        \n",
    "        \n",
    "is_power(128,2)"
   ]
  },
  {
   "cell_type": "code",
   "execution_count": 71,
   "id": "ffb830ae",
   "metadata": {},
   "outputs": [
    {
     "name": "stdout",
     "output_type": "stream",
     "text": [
      "200\n"
     ]
    }
   ],
   "source": [
    "def abs_val(x):\n",
    "    if x>0:\n",
    "        return x\n",
    "    elif x<0:\n",
    "        return -x\n",
    "    else:\n",
    "        return 0\n",
    "\n",
    "def gcd(a,b):\n",
    "    if abs_val(a)<abs_val(b):\n",
    "        return(\"a needs to be larger than b\")\n",
    "    elif not a%b==0:\n",
    "        r=a%b\n",
    "        gcd(b,r)\n",
    "    elif a%b==0:\n",
    "        print(b)\n",
    "        return b\n",
    "    \n",
    "    \n",
    "gcd(7200,1000)"
   ]
  },
  {
   "cell_type": "code",
   "execution_count": null,
   "id": "78ba079b",
   "metadata": {},
   "outputs": [],
   "source": []
  }
 ],
 "metadata": {
  "kernelspec": {
   "display_name": "Python 3 (ipykernel)",
   "language": "python",
   "name": "python3"
  },
  "language_info": {
   "codemirror_mode": {
    "name": "ipython",
    "version": 3
   },
   "file_extension": ".py",
   "mimetype": "text/x-python",
   "name": "python",
   "nbconvert_exporter": "python",
   "pygments_lexer": "ipython3",
   "version": "3.11.5"
  }
 },
 "nbformat": 4,
 "nbformat_minor": 5
}
