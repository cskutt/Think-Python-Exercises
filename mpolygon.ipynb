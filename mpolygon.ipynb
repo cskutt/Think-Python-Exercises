{
 "cells": [
  {
   "cell_type": "code",
   "execution_count": 1,
   "id": "cc7c139c",
   "metadata": {},
   "outputs": [],
   "source": [
    "import turtle"
   ]
  },
  {
   "cell_type": "code",
   "execution_count": 2,
   "id": "a193ea68",
   "metadata": {},
   "outputs": [],
   "source": [
    "bob=turtle.Turtle()"
   ]
  },
  {
   "cell_type": "code",
   "execution_count": 3,
   "id": "b760f923",
   "metadata": {},
   "outputs": [
    {
     "name": "stdout",
     "output_type": "stream",
     "text": [
      "<turtle.Turtle object at 0x1063df7d0>\n"
     ]
    }
   ],
   "source": [
    "print(bob)"
   ]
  },
  {
   "cell_type": "code",
   "execution_count": 4,
   "id": "a9ce839c",
   "metadata": {},
   "outputs": [],
   "source": [
    "import math"
   ]
  },
  {
   "cell_type": "code",
   "execution_count": 5,
   "id": "bec755aa",
   "metadata": {},
   "outputs": [],
   "source": [
    "def square(t, length):\n",
    "    for i in range (4):\n",
    "        t.fd(length)\n",
    "        t.lt(90)\n",
    "        \n",
    "def polyline(t,n,length,angle):\n",
    "    for i in range(n):\n",
    "        t.fd(length)\n",
    "        t.lt(angle)\n",
    "        \n",
    "def polygon(t, length, n):\n",
    "    angle=360.0/n\n",
    "    polyline(t,n,length,angle)\n",
    "        \n",
    "def arc(t,r,angle):\n",
    "    arc_length=2*math.pi*r/(angle/360)\n",
    "    n=int(arc_length/3)+1\n",
    "    step_length=arc_length/n\n",
    "    step_angle=angle/n\n",
    "    polyline(t,n,step_length,step_angle)\n",
    "    \n",
    "def circle(t,r):\n",
    "    arc(t,r,360)"
   ]
  },
  {
   "cell_type": "code",
   "execution_count": null,
   "id": "baf2e261",
   "metadata": {
    "scrolled": true
   },
   "outputs": [],
   "source": [
    "arc(bob, 50, 180)"
   ]
  },
  {
   "cell_type": "code",
   "execution_count": 4,
   "id": "3538d28b",
   "metadata": {},
   "outputs": [
    {
     "name": "stdout",
     "output_type": "stream",
     "text": [
      "0.49999999999999994\n"
     ]
    }
   ],
   "source": []
  },
  {
   "cell_type": "code",
   "execution_count": null,
   "id": "d4a97de3",
   "metadata": {},
   "outputs": [],
   "source": [
    "turtle.mainloop()"
   ]
  },
  {
   "cell_type": "code",
   "execution_count": null,
   "id": "7e753d1e",
   "metadata": {},
   "outputs": [],
   "source": []
  },
  {
   "cell_type": "code",
   "execution_count": null,
   "id": "1201d6f6",
   "metadata": {},
   "outputs": [],
   "source": []
  }
 ],
 "metadata": {
  "kernelspec": {
   "display_name": "Python 3 (ipykernel)",
   "language": "python",
   "name": "python3"
  },
  "language_info": {
   "codemirror_mode": {
    "name": "ipython",
    "version": 3
   },
   "file_extension": ".py",
   "mimetype": "text/x-python",
   "name": "python",
   "nbconvert_exporter": "python",
   "pygments_lexer": "ipython3",
   "version": "3.11.5"
  }
 },
 "nbformat": 4,
 "nbformat_minor": 5
}
